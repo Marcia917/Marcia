{
 "cells": [
  {
   "cell_type": "code",
   "execution_count": 1,
   "id": "709414d4",
   "metadata": {},
   "outputs": [
    {
     "name": "stdout",
     "output_type": "stream",
     "text": [
      "23\n"
     ]
    }
   ],
   "source": [
    "#Declare your age as integer variable\n",
    "age = 23\n",
    "print(int(age))"
   ]
  },
  {
   "cell_type": "code",
   "execution_count": 4,
   "id": "a9e91354",
   "metadata": {},
   "outputs": [
    {
     "name": "stdout",
     "output_type": "stream",
     "text": [
      "166.0\n"
     ]
    }
   ],
   "source": [
    "#Declare your height as a float variable\n",
    "height = 166\n",
    "print(float(height))"
   ]
  },
  {
   "cell_type": "code",
   "execution_count": 5,
   "id": "f00f6d49",
   "metadata": {},
   "outputs": [
    {
     "name": "stdout",
     "output_type": "stream",
     "text": [
      "(5+0j)\n"
     ]
    }
   ],
   "source": [
    "#Declare variable that store a complex number\n",
    "a = 5\n",
    "print(complex(a))"
   ]
  },
  {
   "cell_type": "code",
   "execution_count": 8,
   "id": "015e8c14",
   "metadata": {},
   "outputs": [
    {
     "name": "stdout",
     "output_type": "stream",
     "text": [
      "输入底长：20\n",
      "输入高：10\n",
      "100\n"
     ]
    }
   ],
   "source": [
    "#Write a code that prompts the user to enter base and height of the triangle and calculate an area of this triangle (area = 0.5 x b x h).\n",
    "base =int(input(\"输入底长：\"))\n",
    "height = int(input(\"输入高：\"))\n",
    "area = 0.5*base*height\n",
    "print(int(area))"
   ]
  },
  {
   "cell_type": "code",
   "execution_count": 31,
   "id": "e19137fb",
   "metadata": {},
   "outputs": [
    {
     "name": "stdout",
     "output_type": "stream",
     "text": [
      "输入边长 a:5\n",
      "输入边长 b:4\n",
      "输入边长 c:3\n",
      "12\n"
     ]
    }
   ],
   "source": [
    "#Write a code that prompts the user to enter side a, side b, and side c of the triangle. Calculate the perimeter of the triangle (perimeter = a + b + c).\n",
    "a1 =int(input(\"输入边长 a:\"))\n",
    "b1 = int(input(\"输入边长 b:\"))\n",
    "c1 = int(input(\"输入边长 c:\"))\n",
    "perimeter = a1+b1+c1\n",
    "print(int(perimeter))"
   ]
  },
  {
   "cell_type": "code",
   "execution_count": 13,
   "id": "6b8ac988",
   "metadata": {},
   "outputs": [
    {
     "name": "stdout",
     "output_type": "stream",
     "text": [
      "输入长度: 20\n",
      "输入高度: 10\n",
      "面积是: 200\n",
      "周长是: 60\n"
     ]
    }
   ],
   "source": [
    "#Get length and width of a rectangle using prompt. Calculate its area (area = length x width) and perimeter (perimeter = 2 x (length + width))print('The perimeter =12,side a =5,side b =4')\n",
    "length = int(input('输入长度: '))\n",
    "width = int(input('输入高度: '))\n",
    "area = length*width\n",
    "print(\"面积是:\",area)\n",
    "per = 2*(length+width)\n",
    "print(\"周长是:\",per)"
   ]
  },
  {
   "cell_type": "code",
   "execution_count": 14,
   "id": "4acadbda",
   "metadata": {},
   "outputs": [
    {
     "name": "stdout",
     "output_type": "stream",
     "text": [
      "输入半径 3\n",
      "面积是: 200.0\n",
      "周长是: 18.84\n"
     ]
    }
   ],
   "source": [
    "#Get radius of a circle using prompt. Calculate the area (area = pi x r x r) and circumference (c = 2 x pi x r) where pi = 3.14.\n",
    "radius = int(input('输入半径 '))\n",
    "Rarea = 3.14*radius*radius\n",
    "circumference = 2*3.14*radius\n",
    "print(\"面积是:\",float(area))\n",
    "print(\"周长是:\",float(circumference))"
   ]
  },
  {
   "cell_type": "code",
   "execution_count": 36,
   "id": "f2d6dcc5",
   "metadata": {},
   "outputs": [
    {
     "name": "stdout",
     "output_type": "stream",
     "text": [
      "2\n"
     ]
    }
   ],
   "source": [
    "#Find the slope and Euclidean distance between point (2, 2) and point (6,10)\n",
    "p1 = [2, 2]\n",
    "p2 = [6, 10] \n",
    "slope = abs((p1[1] - p2[1]) / (p1[0] - p2[0] )) \n",
    "print(int(slope))"
   ]
  },
  {
   "cell_type": "code",
   "execution_count": 33,
   "id": "fc6cdf39",
   "metadata": {},
   "outputs": [
    {
     "name": "stdout",
     "output_type": "stream",
     "text": [
      "8\n"
     ]
    }
   ],
   "source": [
    "#Find the slope and Euclidean distance between point (2, 2) and point (6,10)\n",
    "import numpy as np\n",
    "import math\n",
    "p1=np.array([2,2])\n",
    "p2=np.array([6,10])\n",
    "p3=p2-p1\n",
    "p4=math.hypot(p3[0],p3[1])\n",
    "print(int(p4))"
   ]
  },
  {
   "cell_type": "code",
   "execution_count": 25,
   "id": "0135894a",
   "metadata": {},
   "outputs": [
    {
     "name": "stdout",
     "output_type": "stream",
     "text": [
      "[-3]\n"
     ]
    }
   ],
   "source": [
    "#Calculate the value of y ( 𝑦=𝑥*x+6𝑥+9 ). Try to use different x values and figure out at what x value y is going to be 0.\n",
    "from sympy import *\n",
    "x = symbols('x')\n",
    "print(solve(x*x+6*x+9,x))"
   ]
  },
  {
   "cell_type": "code",
   "execution_count": 37,
   "id": "d4de9379",
   "metadata": {},
   "outputs": [
    {
     "data": {
      "text/plain": [
       "False"
      ]
     },
     "execution_count": 37,
     "metadata": {},
     "output_type": "execute_result"
    }
   ],
   "source": [
    "#Find the length of 'python' and 'datascience' and make a falsy comparison statement.\n",
    "len(str('python'))\n",
    "len(str('datascience'))\n",
    "len(str('python'))>len(str('datascience'))"
   ]
  },
  {
   "cell_type": "code",
   "execution_count": 33,
   "id": "d37058cf",
   "metadata": {},
   "outputs": [
    {
     "name": "stdout",
     "output_type": "stream",
     "text": [
      "true\n"
     ]
    }
   ],
   "source": [
    "#I hope this course is not full of jargon. Use in operator to check if jargon is in the sentence.\n",
    "a = 'I hope this course is not full of jargon.'\n",
    "if 'jargon' in a:\n",
    "    print('true')\n",
    "else:\n",
    "    print(flase)"
   ]
  },
  {
   "cell_type": "code",
   "execution_count": 34,
   "id": "2eeaccc9",
   "metadata": {},
   "outputs": [
    {
     "name": "stdout",
     "output_type": "stream",
     "text": [
      "6.0\n"
     ]
    }
   ],
   "source": [
    "#Find the length of the text python and convert the value to float and convert it to string\n",
    "print(str(float(len(str('python')))))"
   ]
  },
  {
   "cell_type": "code",
   "execution_count": 38,
   "id": "2c0d462d",
   "metadata": {},
   "outputs": [
    {
     "name": "stdout",
     "output_type": "stream",
     "text": [
      "a:7\n",
      "奇数\n"
     ]
    }
   ],
   "source": [
    "#Even numbers are divisible by 2 and the remainder is zero. How do you check if a number is even or not using python?\n",
    "num =int( input('a:'))\n",
    "if num % 2 == 0:\n",
    "    print('偶数')\n",
    "else:\n",
    "    print('奇数')\n",
    "\n"
   ]
  },
  {
   "cell_type": "code",
   "execution_count": 44,
   "id": "e18da41d",
   "metadata": {},
   "outputs": [
    {
     "data": {
      "text/plain": [
       "False"
      ]
     },
     "execution_count": 44,
     "metadata": {},
     "output_type": "execute_result"
    }
   ],
   "source": [
    "#Check if the floor division of 7 by 3 is equal to the int converted value of 2.7.\n",
    "d=int(2.7)\n",
    "7/3 == d"
   ]
  },
  {
   "cell_type": "code",
   "execution_count": 4,
   "id": "d64f76c0",
   "metadata": {},
   "outputs": [
    {
     "data": {
      "text/plain": [
       "False"
      ]
     },
     "execution_count": 4,
     "metadata": {},
     "output_type": "execute_result"
    }
   ],
   "source": [
    "#Check if type of \"10\" is equal to type of 10\n",
    "type('10') == type(10)"
   ]
  },
  {
   "cell_type": "code",
   "execution_count": null,
   "id": "7941f96e",
   "metadata": {},
   "outputs": [],
   "source": []
  }
 ],
 "metadata": {
  "kernelspec": {
   "display_name": "Python 3",
   "language": "python",
   "name": "python3"
  },
  "language_info": {
   "codemirror_mode": {
    "name": "ipython",
    "version": 3
   },
   "file_extension": ".py",
   "mimetype": "text/x-python",
   "name": "python",
   "nbconvert_exporter": "python",
   "pygments_lexer": "ipython3",
   "version": "3.8.8"
  },
  "toc": {
   "base_numbering": 1,
   "nav_menu": {},
   "number_sections": true,
   "sideBar": true,
   "skip_h1_title": false,
   "title_cell": "Table of Contents",
   "title_sidebar": "Contents",
   "toc_cell": false,
   "toc_position": {},
   "toc_section_display": true,
   "toc_window_display": false
  }
 },
 "nbformat": 4,
 "nbformat_minor": 5
}
