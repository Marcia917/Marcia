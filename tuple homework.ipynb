{
 "cells": [
  {
   "cell_type": "code",
   "execution_count": 1,
   "id": "d66e8e58",
   "metadata": {},
   "outputs": [
    {
     "name": "stdout",
     "output_type": "stream",
     "text": [
      "('tomato', 'patato', 'cabbage', 'corn')\n",
      "('watermelon', 'apple', 'lemon', 'mango')\n"
     ]
    }
   ],
   "source": [
    "#Create a tuple containing names of fruits and vegetables\n",
    "tuple1 = ('tomato','patato','cabbage','corn')\n",
    "tuple2 = ('watermelon','apple','lemon','mango')\n",
    "print(tuple1)\n",
    "print(tuple2)"
   ]
  },
  {
   "cell_type": "code",
   "execution_count": 2,
   "id": "de1f91a8",
   "metadata": {},
   "outputs": [
    {
     "name": "stdout",
     "output_type": "stream",
     "text": [
      "('tomato', 'patato', 'cabbage', 'corn', 'watermelon', 'apple', 'lemon', 'mango')\n"
     ]
    }
   ],
   "source": [
    "#Join fruits and vegetables tuples and assign it to fruits_vegetables\n",
    "fruits_vegetables = tuple1+tuple2\n",
    "print(fruits_vegetables)"
   ]
  },
  {
   "cell_type": "code",
   "execution_count": 3,
   "id": "0f322510",
   "metadata": {},
   "outputs": [
    {
     "data": {
      "text/plain": [
       "8"
      ]
     },
     "execution_count": 3,
     "metadata": {},
     "output_type": "execute_result"
    }
   ],
   "source": [
    "#How many fruits_vegetables do you have?\n",
    "len(fruits_vegetables)"
   ]
  },
  {
   "cell_type": "code",
   "execution_count": 4,
   "id": "0b2f10af",
   "metadata": {
    "scrolled": false
   },
   "outputs": [
    {
     "name": "stdout",
     "output_type": "stream",
     "text": [
      "('tomato', 'patato', 'cabbage', 'corn', 'watermelon', 'apple', 'lemon', 'mango', 'mushroom', 'cola')\n"
     ]
    }
   ],
   "source": [
    "#Modify the fruits_vegetables tuple and add the name of your favorite mushroom and beverage and assign it to food_tuple\n",
    "food_tuple = fruits_vegetables+('mushroom','cola')\n",
    "print(food_tuple)"
   ]
  },
  {
   "cell_type": "code",
   "execution_count": 5,
   "id": "1e50ebe7",
   "metadata": {},
   "outputs": [
    {
     "name": "stdout",
     "output_type": "stream",
     "text": [
      "['tomato', 'patato', 'cabbage', 'corn', 'watermelon', 'apple', 'lemon', 'mango']\n",
      "mushroom\n",
      "cola\n"
     ]
    },
    {
     "data": {
      "text/plain": [
       "list"
      ]
     },
     "execution_count": 5,
     "metadata": {},
     "output_type": "execute_result"
    }
   ],
   "source": [
    "#Unpack fruits_vegetables and mushroom and beverage from food_tuple\n",
    "*fruits_vegetables,mushroom,beverage = food_tuple\n",
    "print(fruits_vegetables)\n",
    "print(mushroom)\n",
    "print(beverage)"
   ]
  },
  {
   "cell_type": "code",
   "execution_count": 6,
   "id": "afb05775",
   "metadata": {},
   "outputs": [
    {
     "name": "stdout",
     "output_type": "stream",
     "text": [
      "['tomato', 'patato', 'cabbage', 'corn', 'watermelon', 'apple', 'lemon', 'mango', 'mushroom', 'cola']\n"
     ]
    }
   ],
   "source": [
    "#Change the about food_tuple tuple to a food_list list\n",
    "food_list = list(food_tuple)\n",
    "print(food_list)"
   ]
  },
  {
   "cell_type": "code",
   "execution_count": 7,
   "id": "7ae08200",
   "metadata": {},
   "outputs": [
    {
     "name": "stdout",
     "output_type": "stream",
     "text": [
      "('corn',)\n"
     ]
    }
   ],
   "source": [
    "#Slice out the middle item or items from the food_tuple tuple or food_list list.\n",
    "print(food_tuple[3:4])"
   ]
  },
  {
   "cell_type": "code",
   "execution_count": 8,
   "id": "2da2adc9",
   "metadata": {},
   "outputs": [
    {
     "name": "stdout",
     "output_type": "stream",
     "text": [
      "('tomato', 'cabbage', 'watermelon', 'lemon')\n"
     ]
    }
   ],
   "source": [
    "print(food_tuple[:-2:2]) "
   ]
  },
  {
   "cell_type": "code",
   "execution_count": 9,
   "id": "9fec830a",
   "metadata": {},
   "outputs": [
    {
     "name": "stdout",
     "output_type": "stream",
     "text": [
      "['tomato', 'patato', 'cabbage']\n"
     ]
    }
   ],
   "source": [
    "#Slice out the first three items and the last three items from food_list list\n",
    "print(food_list[0:3])"
   ]
  },
  {
   "cell_type": "code",
   "execution_count": 10,
   "id": "4e9eaad8",
   "metadata": {},
   "outputs": [
    {
     "name": "stdout",
     "output_type": "stream",
     "text": [
      "['mango', 'mushroom', 'cola']\n"
     ]
    }
   ],
   "source": [
    "print(food_list[-3:])"
   ]
  },
  {
   "cell_type": "code",
   "execution_count": 11,
   "id": "92c46c7d",
   "metadata": {},
   "outputs": [],
   "source": [
    "#Delete the food_tuple tuple completely\n",
    "del food_tuple"
   ]
  },
  {
   "cell_type": "code",
   "execution_count": 12,
   "id": "a74cadc3",
   "metadata": {},
   "outputs": [
    {
     "name": "stdout",
     "output_type": "stream",
     "text": [
      "False\n",
      "True\n"
     ]
    }
   ],
   "source": [
    "#Check if an item exists in tuple:\n",
    "#Check if 'Finland' is a asian country\n",
    "#Check if 'India' is a asian country\n",
    "#asian_countries = ('India','China','Singapore','Thailand','Indonesia')\n",
    "asian_countries = ('India','China','Singapore','Thailand','Indonesia')\n",
    "print('Finland' in asian_countries)\n",
    "print('India' in asian_countries)   "
   ]
  },
  {
   "cell_type": "code",
   "execution_count": null,
   "id": "4b1a145d",
   "metadata": {},
   "outputs": [],
   "source": []
  }
 ],
 "metadata": {
  "kernelspec": {
   "display_name": "Python 3",
   "language": "python",
   "name": "python3"
  },
  "language_info": {
   "codemirror_mode": {
    "name": "ipython",
    "version": 3
   },
   "file_extension": ".py",
   "mimetype": "text/x-python",
   "name": "python",
   "nbconvert_exporter": "python",
   "pygments_lexer": "ipython3",
   "version": "3.8.8"
  }
 },
 "nbformat": 4,
 "nbformat_minor": 5
}
